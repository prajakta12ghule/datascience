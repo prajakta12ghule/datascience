{
 "cells": [
  {
   "cell_type": "code",
   "execution_count": 1,
   "id": "ebec985a",
   "metadata": {},
   "outputs": [
    {
     "name": "stdout",
     "output_type": "stream",
     "text": [
      "['45rd', 'Kenith', 'Btm', 'Banga', '30-04-2022', 'Rajesh', '50038', '8:30:21']\n"
     ]
    }
   ],
   "source": [
    "a=('45rd Kenith Btm Banga 30-04-2022 Rajesh 50038 8:30:21').split()\n",
    "print(a)"
   ]
  },
  {
   "cell_type": "code",
   "execution_count": 2,
   "id": "1871aadd",
   "metadata": {},
   "outputs": [
    {
     "data": {
      "text/plain": [
       "'45rd'"
      ]
     },
     "execution_count": 2,
     "metadata": {},
     "output_type": "execute_result"
    }
   ],
   "source": [
    "a[0]"
   ]
  },
  {
   "cell_type": "code",
   "execution_count": 3,
   "id": "d7789ef9",
   "metadata": {},
   "outputs": [
    {
     "data": {
      "text/plain": [
       "'30-04-2022'"
      ]
     },
     "execution_count": 3,
     "metadata": {},
     "output_type": "execute_result"
    }
   ],
   "source": [
    "a[4]"
   ]
  },
  {
   "cell_type": "code",
   "execution_count": 7,
   "id": "8a19c40d",
   "metadata": {},
   "outputs": [
    {
     "data": {
      "text/plain": [
       "'30'"
      ]
     },
     "execution_count": 7,
     "metadata": {},
     "output_type": "execute_result"
    }
   ],
   "source": [
    "a[4][0:2]"
   ]
  },
  {
   "cell_type": "code",
   "execution_count": 8,
   "id": "5f360515",
   "metadata": {},
   "outputs": [
    {
     "data": {
      "text/plain": [
       "'04'"
      ]
     },
     "execution_count": 8,
     "metadata": {},
     "output_type": "execute_result"
    }
   ],
   "source": [
    "a[4][3:5]"
   ]
  },
  {
   "cell_type": "code",
   "execution_count": 9,
   "id": "b2c57949",
   "metadata": {},
   "outputs": [
    {
     "data": {
      "text/plain": [
       "'2022'"
      ]
     },
     "execution_count": 9,
     "metadata": {},
     "output_type": "execute_result"
    }
   ],
   "source": [
    "a[4][6:]"
   ]
  },
  {
   "cell_type": "code",
   "execution_count": 12,
   "id": "a7832871",
   "metadata": {},
   "outputs": [
    {
     "name": "stdout",
     "output_type": "stream",
     "text": [
      "HOUSE ADD \tSTREET \t CITY \t STATE \t ZIP \t MONTH \t DATE \t YEAR \t NAME \t Hr \t Min \t Sec\n"
     ]
    }
   ],
   "source": [
    "print('HOUSE ADD','\\t' 'STREET','\\t','CITY','\\t','STATE','\\t','ZIP','\\t','MONTH','\\t','DATE','\\t','YEAR','\\t','NAME','\\t','Hr','\\t','Min','\\t','Sec')"
   ]
  },
  {
   "cell_type": "code",
   "execution_count": 13,
   "id": "ac082d77",
   "metadata": {},
   "outputs": [
    {
     "name": "stdout",
     "output_type": "stream",
     "text": [
      "45rd \t\t Kenith \t Btm \t Banga \t 50038 \t 04 \t 30 \t 2022 \t Rajesh   8 \t 30 \t 21\n"
     ]
    }
   ],
   "source": [
    "print(a[0],'\\t\\t',a[1],'\\t',a[2],'\\t',a[3],'\\t',a[6],'\\t',a[4][3:5],'\\t',a[4][:2],'\\t',a[4][6:],'\\t',a[5],' ',a[7][0],'\\t',a[7][2:4],'\\t',a[7][5:])\n"
   ]
  },
  {
   "cell_type": "code",
   "execution_count": null,
   "id": "57d19072",
   "metadata": {},
   "outputs": [],
   "source": []
  }
 ],
 "metadata": {
  "kernelspec": {
   "display_name": "Python 3 (ipykernel)",
   "language": "python",
   "name": "python3"
  },
  "language_info": {
   "codemirror_mode": {
    "name": "ipython",
    "version": 3
   },
   "file_extension": ".py",
   "mimetype": "text/x-python",
   "name": "python",
   "nbconvert_exporter": "python",
   "pygments_lexer": "ipython3",
   "version": "3.10.9"
  }
 },
 "nbformat": 4,
 "nbformat_minor": 5
}
